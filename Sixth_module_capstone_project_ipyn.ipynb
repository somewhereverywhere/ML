{
  "nbformat": 4,
  "nbformat_minor": 0,
  "metadata": {
    "colab": {
      "provenance": [],
      "collapsed_sections": [
        "vncDsAP0Gaoa",
        "FJNUwmbgGyua",
        "w6K7xa23Elo4",
        "yQaldy8SH6Dl",
        "mDgbUHAGgjLW",
        "O_i_v8NEhb9l",
        "HhfV-JJviCcP",
        "Y3lxredqlCYt",
        "3RnN4peoiCZX",
        "x71ZqKXriCWQ",
        "7hBIi_osiCS2",
        "JlHwYmJAmNHm",
        "35m5QtbWiB9F",
        "PoPl-ycgm1ru",
        "H0kj-8xxnORC",
        "nA9Y7ga8ng1Z",
        "PBTbrJXOngz2",
        "u3PMJOP6ngxN",
        "dauF4eBmngu3",
        "bKJF3rekwFvQ",
        "MSa1f5Uengrz",
        "GF8Ens_Soomf",
        "0wOQAZs5pc--",
        "K5QZ13OEpz2H",
        "lQ7QKXXCp7Bj",
        "448CDAPjqfQr",
        "KSlN3yHqYklG",
        "t6dVpIINYklI",
        "ijmpgYnKYklI",
        "-JiQyfWJYklI",
        "EM7whBJCYoAo",
        "fge-S5ZAYoAp",
        "85gYPyotYoAp",
        "RoGjAbkUYoAp",
        "4Of9eVA-YrdM",
        "iky9q4vBYrdO",
        "F6T5p64dYrdO",
        "y-Ehk30pYrdP",
        "bamQiAODYuh1",
        "QHF8YVU7Yuh3",
        "GwzvFGzlYuh3",
        "qYpmQ266Yuh3",
        "OH-pJp9IphqM",
        "bbFf2-_FphqN",
        "_ouA3fa0phqN",
        "Seke61FWphqN",
        "PIIx-8_IphqN",
        "t27r6nlMphqO",
        "r2jJGEOYphqO",
        "b0JNsNcRphqO",
        "BZR9WyysphqO",
        "jj7wYXLtphqO",
        "eZrbJ2SmphqO",
        "rFu4xreNphqO",
        "YJ55k-q6phqO",
        "gCFgpxoyphqP",
        "OVtJsKN_phqQ",
        "lssrdh5qphqQ",
        "U2RJ9gkRphqQ",
        "1M8mcRywphqQ",
        "tgIPom80phqQ",
        "JMzcOPDDphqR",
        "x-EpHcCOp1ci",
        "X_VqEhTip1ck",
        "8zGJKyg5p1ck",
        "PVzmfK_Ep1ck",
        "n3dbpmDWp1ck",
        "ylSl6qgtp1ck",
        "ZWILFDl5p1ck",
        "M7G43BXep1ck",
        "Ag9LCva-p1cl",
        "E6MkPsBcp1cl",
        "2cELzS2fp1cl",
        "3MPXvC8up1cl",
        "NC_X3p0fY2L0",
        "UV0SzAkaZNRQ",
        "YPEH6qLeZNRQ",
        "q29F0dvdveiT",
        "EXh0U9oCveiU",
        "22aHeOlLveiV",
        "g-ATYxFrGrvw",
        "Yfr_Vlr8HBkt",
        "8yEUt7NnHlrM",
        "tEA2Xm5dHt1r",
        "I79__PHVH19G",
        "Ou-I18pAyIpj",
        "fF3858GYyt-u",
        "4_0_7-oCpUZd",
        "hwyV_J3ipUZe",
        "3yB-zSqbpUZe",
        "dEUvejAfpUZe",
        "Fd15vwWVpUZf",
        "bn_IUdTipZyH",
        "49K5P_iCpZyH",
        "Nff-vKELpZyI",
        "kLW572S8pZyI",
        "dWbDXHzopZyI",
        "yLjJCtPM0KBk",
        "xiyOF9F70UgQ",
        "7wuGOrhz0itI",
        "id1riN9m0vUs",
        "578E2V7j08f6",
        "89xtkJwZ18nB",
        "67NQN5KX2AMe",
        "Iwf50b-R2tYG",
        "GMQiZwjn3iu7",
        "WVIkgGqN3qsr",
        "XkPnILGE3zoT",
        "Hlsf0x5436Go",
        "mT9DMSJo4nBL",
        "c49ITxTc407N",
        "OeJFEK0N496M",
        "9ExmJH0g5HBk",
        "cJNqERVU536h",
        "k5UmGsbsOxih",
        "T0VqWOYE6DLQ",
        "qBMux9mC6MCf",
        "-oLEiFgy-5Pf",
        "C74aWNz2AliB",
        "2DejudWSA-a0",
        "pEMng2IbBLp7",
        "rAdphbQ9Bhjc",
        "TNVZ9zx19K6k",
        "nqoHp30x9hH9",
        "rMDnDkt2B6du",
        "yiiVWRdJDDil",
        "1UUpS68QDMuG",
        "kexQrXU-DjzY",
        "T5CmagL3EC8N",
        "BhH2vgX9EjGr",
        "qjKvONjwE8ra",
        "P1XJ9OREExlT",
        "VFOzZv6IFROw",
        "TIqpNgepFxVj",
        "VfCC591jGiD4",
        "OB4l2ZhMeS1U",
        "ArJBuiUVfxKd",
        "4qY1EAkEfxKe",
        "PiV4Ypx8fxKe",
        "TfvqoZmBfxKf",
        "dJ2tPlVmpsJ0",
        "JWYfwnehpsJ1",
        "-jK_YjpMpsJ2",
        "HAih1iBOpsJ2",
        "zVGeBEFhpsJ2",
        "bmKjuQ-FpsJ3",
        "Fze-IPXLpx6K",
        "7AN1z2sKpx6M",
        "9PIHJqyupx6M",
        "_-qAgymDpx6N",
        "Z-hykwinpx6N",
        "h_CCil-SKHpo",
        "cBFFvTBNJzUa",
        "HvGl1hHyA_VK",
        "EyNgTHvd2WFk",
        "KH5McJBi2d8v",
        "iW_Lq9qf2h6X",
        "-Kee-DAl2viO",
        "gCX9965dhzqZ",
        "gIfDvo9L0UH2"
      ],
      "include_colab_link": true
    },
    "kernelspec": {
      "name": "python3",
      "display_name": "Python 3"
    },
    "language_info": {
      "name": "python"
    }
  },
  "cells": [
    {
      "cell_type": "markdown",
      "metadata": {
        "id": "view-in-github",
        "colab_type": "text"
      },
      "source": [
        "<a href=\"https://colab.research.google.com/github/somewhereverywhere/ML/blob/main/Sixth_module_capstone_project_ipyn.ipynb\" target=\"_parent\"><img src=\"https://colab.research.google.com/assets/colab-badge.svg\" alt=\"Open In Colab\"/></a>"
      ]
    },
    {
      "cell_type": "markdown",
      "source": [
        "# **Book Recommendation System**    \n",
        "\n"
      ],
      "metadata": {
        "id": "vncDsAP0Gaoa"
      }
    },
    {
      "cell_type": "markdown",
      "source": [
        "###Github link\n",
        "\n"
      ],
      "metadata": {
        "id": "cvqmFza1F-5d"
      }
    },
    {
      "cell_type": "markdown",
      "source": [
        "# **Project Summary -**"
      ],
      "metadata": {
        "id": "FJNUwmbgGyua"
      }
    },
    {
      "cell_type": "markdown",
      "source": [
        "Book recommendation systems are essential tools for helping readers find new books that match their interests. In this project, we delve into the creation of a book recommendation system by leveraging two widely-used approaches: Popularity-Based Recommendations and Collaborative Filtering. By harnessing the capabilities of Machine Learning, this system aims to deliver personalized book suggestions tailored to each user's unique preferences."
      ],
      "metadata": {
        "id": "F6v_1wHtG2nS"
      }
    },
    {
      "cell_type": "markdown",
      "source": [
        "### Import Libraries"
      ],
      "metadata": {
        "id": "Y3lxredqlCYt"
      }
    },
    {
      "cell_type": "code",
      "source": [
        "from google.colab import drive\n",
        "import pandas as pd\n",
        "import seaborn as sns\n",
        "import matplotlib.pyplot as plt\n",
        "import numpy as np\n",
        "import pickle\n",
        "from tabulate import tabulate\n",
        "\n",
        "\n",
        "# Mount your Google Drive\n",
        "drive.mount('/content/drive')\n",
        "\n",
        "# After mounting, you can access your files\n",
        "file_path1 = '/content/drive/My Drive/Books.csv'\n",
        "file_path2 = '/content/drive/My Drive/Ratings.csv'\n",
        "file_path3 = '/content/drive/My Drive/Users.csv'\n",
        "\n",
        "# Read the file into a Pandas DataFrame\n",
        "\n",
        "df1 = pd.read_csv(file_path1)\n",
        "df2 = pd.read_csv(file_path2)\n",
        "df3 = pd.read_csv(file_path3)\n"
      ],
      "metadata": {
        "id": "wJ6-3soNjawd",
        "colab": {
          "base_uri": "https://localhost:8080/"
        },
        "outputId": "bd09beff-2a61-4e6a-eae3-569d673728f4"
      },
      "execution_count": null,
      "outputs": [
        {
          "output_type": "stream",
          "name": "stdout",
          "text": [
            "Mounted at /content/drive\n"
          ]
        },
        {
          "output_type": "stream",
          "name": "stderr",
          "text": [
            "<ipython-input-1-302d785f0efc>:20: DtypeWarning: Columns (3) have mixed types. Specify dtype option on import or set low_memory=False.\n",
            "  df1 = pd.read_csv(file_path1)\n"
          ]
        }
      ]
    },
    {
      "cell_type": "markdown",
      "source": [
        "### Dataset First View"
      ],
      "metadata": {
        "id": "x71ZqKXriCWQ"
      }
    },
    {
      "cell_type": "code",
      "source": [
        "df1.head(10)"
      ],
      "metadata": {
        "id": "tij6RUwZmt5Y",
        "colab": {
          "base_uri": "https://localhost:8080/",
          "height": 886
        },
        "outputId": "2b70d3b4-3fb7-4303-9cf6-70974a0e7ac4"
      },
      "execution_count": null,
      "outputs": [
        {
          "output_type": "execute_result",
          "data": {
            "text/plain": [
              "         ISBN                                         Book-Title  \\\n",
              "0  0195153448                                Classical Mythology   \n",
              "1  0002005018                                       Clara Callan   \n",
              "2  0060973129                               Decision in Normandy   \n",
              "3  0374157065  Flu: The Story of the Great Influenza Pandemic...   \n",
              "4  0393045218                             The Mummies of Urumchi   \n",
              "5  0399135782                             The Kitchen God's Wife   \n",
              "6  0425176428  What If?: The World's Foremost Military Histor...   \n",
              "7  0671870432                                    PLEADING GUILTY   \n",
              "8  0679425608  Under the Black Flag: The Romance and the Real...   \n",
              "9  074322678X            Where You'll Find Me: And Other Stories   \n",
              "\n",
              "            Book-Author Year-Of-Publication                   Publisher  \\\n",
              "0    Mark P. O. Morford                2002     Oxford University Press   \n",
              "1  Richard Bruce Wright                2001       HarperFlamingo Canada   \n",
              "2          Carlo D'Este                1991             HarperPerennial   \n",
              "3      Gina Bari Kolata                1999        Farrar Straus Giroux   \n",
              "4       E. J. W. Barber                1999  W. W. Norton &amp; Company   \n",
              "5               Amy Tan                1991            Putnam Pub Group   \n",
              "6         Robert Cowley                2000    Berkley Publishing Group   \n",
              "7           Scott Turow                1993                  Audioworks   \n",
              "8       David Cordingly                1996                Random House   \n",
              "9           Ann Beattie                2002                    Scribner   \n",
              "\n",
              "                                         Image-URL-S  \\\n",
              "0  http://images.amazon.com/images/P/0195153448.0...   \n",
              "1  http://images.amazon.com/images/P/0002005018.0...   \n",
              "2  http://images.amazon.com/images/P/0060973129.0...   \n",
              "3  http://images.amazon.com/images/P/0374157065.0...   \n",
              "4  http://images.amazon.com/images/P/0393045218.0...   \n",
              "5  http://images.amazon.com/images/P/0399135782.0...   \n",
              "6  http://images.amazon.com/images/P/0425176428.0...   \n",
              "7  http://images.amazon.com/images/P/0671870432.0...   \n",
              "8  http://images.amazon.com/images/P/0679425608.0...   \n",
              "9  http://images.amazon.com/images/P/074322678X.0...   \n",
              "\n",
              "                                         Image-URL-M  \\\n",
              "0  http://images.amazon.com/images/P/0195153448.0...   \n",
              "1  http://images.amazon.com/images/P/0002005018.0...   \n",
              "2  http://images.amazon.com/images/P/0060973129.0...   \n",
              "3  http://images.amazon.com/images/P/0374157065.0...   \n",
              "4  http://images.amazon.com/images/P/0393045218.0...   \n",
              "5  http://images.amazon.com/images/P/0399135782.0...   \n",
              "6  http://images.amazon.com/images/P/0425176428.0...   \n",
              "7  http://images.amazon.com/images/P/0671870432.0...   \n",
              "8  http://images.amazon.com/images/P/0679425608.0...   \n",
              "9  http://images.amazon.com/images/P/074322678X.0...   \n",
              "\n",
              "                                         Image-URL-L  \n",
              "0  http://images.amazon.com/images/P/0195153448.0...  \n",
              "1  http://images.amazon.com/images/P/0002005018.0...  \n",
              "2  http://images.amazon.com/images/P/0060973129.0...  \n",
              "3  http://images.amazon.com/images/P/0374157065.0...  \n",
              "4  http://images.amazon.com/images/P/0393045218.0...  \n",
              "5  http://images.amazon.com/images/P/0399135782.0...  \n",
              "6  http://images.amazon.com/images/P/0425176428.0...  \n",
              "7  http://images.amazon.com/images/P/0671870432.0...  \n",
              "8  http://images.amazon.com/images/P/0679425608.0...  \n",
              "9  http://images.amazon.com/images/P/074322678X.0...  "
            ],
            "text/html": [
              "\n",
              "  <div id=\"df-e952e123-bafa-4c8f-a5d6-7b404a4f338d\" class=\"colab-df-container\">\n",
              "    <div>\n",
              "<style scoped>\n",
              "    .dataframe tbody tr th:only-of-type {\n",
              "        vertical-align: middle;\n",
              "    }\n",
              "\n",
              "    .dataframe tbody tr th {\n",
              "        vertical-align: top;\n",
              "    }\n",
              "\n",
              "    .dataframe thead th {\n",
              "        text-align: right;\n",
              "    }\n",
              "</style>\n",
              "<table border=\"1\" class=\"dataframe\">\n",
              "  <thead>\n",
              "    <tr style=\"text-align: right;\">\n",
              "      <th></th>\n",
              "      <th>ISBN</th>\n",
              "      <th>Book-Title</th>\n",
              "      <th>Book-Author</th>\n",
              "      <th>Year-Of-Publication</th>\n",
              "      <th>Publisher</th>\n",
              "      <th>Image-URL-S</th>\n",
              "      <th>Image-URL-M</th>\n",
              "      <th>Image-URL-L</th>\n",
              "    </tr>\n",
              "  </thead>\n",
              "  <tbody>\n",
              "    <tr>\n",
              "      <th>0</th>\n",
              "      <td>0195153448</td>\n",
              "      <td>Classical Mythology</td>\n",
              "      <td>Mark P. O. Morford</td>\n",
              "      <td>2002</td>\n",
              "      <td>Oxford University Press</td>\n",
              "      <td>http://images.amazon.com/images/P/0195153448.0...</td>\n",
              "      <td>http://images.amazon.com/images/P/0195153448.0...</td>\n",
              "      <td>http://images.amazon.com/images/P/0195153448.0...</td>\n",
              "    </tr>\n",
              "    <tr>\n",
              "      <th>1</th>\n",
              "      <td>0002005018</td>\n",
              "      <td>Clara Callan</td>\n",
              "      <td>Richard Bruce Wright</td>\n",
              "      <td>2001</td>\n",
              "      <td>HarperFlamingo Canada</td>\n",
              "      <td>http://images.amazon.com/images/P/0002005018.0...</td>\n",
              "      <td>http://images.amazon.com/images/P/0002005018.0...</td>\n",
              "      <td>http://images.amazon.com/images/P/0002005018.0...</td>\n",
              "    </tr>\n",
              "    <tr>\n",
              "      <th>2</th>\n",
              "      <td>0060973129</td>\n",
              "      <td>Decision in Normandy</td>\n",
              "      <td>Carlo D'Este</td>\n",
              "      <td>1991</td>\n",
              "      <td>HarperPerennial</td>\n",
              "      <td>http://images.amazon.com/images/P/0060973129.0...</td>\n",
              "      <td>http://images.amazon.com/images/P/0060973129.0...</td>\n",
              "      <td>http://images.amazon.com/images/P/0060973129.0...</td>\n",
              "    </tr>\n",
              "    <tr>\n",
              "      <th>3</th>\n",
              "      <td>0374157065</td>\n",
              "      <td>Flu: The Story of the Great Influenza Pandemic...</td>\n",
              "      <td>Gina Bari Kolata</td>\n",
              "      <td>1999</td>\n",
              "      <td>Farrar Straus Giroux</td>\n",
              "      <td>http://images.amazon.com/images/P/0374157065.0...</td>\n",
              "      <td>http://images.amazon.com/images/P/0374157065.0...</td>\n",
              "      <td>http://images.amazon.com/images/P/0374157065.0...</td>\n",
              "    </tr>\n",
              "    <tr>\n",
              "      <th>4</th>\n",
              "      <td>0393045218</td>\n",
              "      <td>The Mummies of Urumchi</td>\n",
              "      <td>E. J. W. Barber</td>\n",
              "      <td>1999</td>\n",
              "      <td>W. W. Norton &amp;amp; Company</td>\n",
              "      <td>http://images.amazon.com/images/P/0393045218.0...</td>\n",
              "      <td>http://images.amazon.com/images/P/0393045218.0...</td>\n",
              "      <td>http://images.amazon.com/images/P/0393045218.0...</td>\n",
              "    </tr>\n",
              "    <tr>\n",
              "      <th>5</th>\n",
              "      <td>0399135782</td>\n",
              "      <td>The Kitchen God's Wife</td>\n",
              "      <td>Amy Tan</td>\n",
              "      <td>1991</td>\n",
              "      <td>Putnam Pub Group</td>\n",
              "      <td>http://images.amazon.com/images/P/0399135782.0...</td>\n",
              "      <td>http://images.amazon.com/images/P/0399135782.0...</td>\n",
              "      <td>http://images.amazon.com/images/P/0399135782.0...</td>\n",
              "    </tr>\n",
              "    <tr>\n",
              "      <th>6</th>\n",
              "      <td>0425176428</td>\n",
              "      <td>What If?: The World's Foremost Military Histor...</td>\n",
              "      <td>Robert Cowley</td>\n",
              "      <td>2000</td>\n",
              "      <td>Berkley Publishing Group</td>\n",
              "      <td>http://images.amazon.com/images/P/0425176428.0...</td>\n",
              "      <td>http://images.amazon.com/images/P/0425176428.0...</td>\n",
              "      <td>http://images.amazon.com/images/P/0425176428.0...</td>\n",
              "    </tr>\n",
              "    <tr>\n",
              "      <th>7</th>\n",
              "      <td>0671870432</td>\n",
              "      <td>PLEADING GUILTY</td>\n",
              "      <td>Scott Turow</td>\n",
              "      <td>1993</td>\n",
              "      <td>Audioworks</td>\n",
              "      <td>http://images.amazon.com/images/P/0671870432.0...</td>\n",
              "      <td>http://images.amazon.com/images/P/0671870432.0...</td>\n",
              "      <td>http://images.amazon.com/images/P/0671870432.0...</td>\n",
              "    </tr>\n",
              "    <tr>\n",
              "      <th>8</th>\n",
              "      <td>0679425608</td>\n",
              "      <td>Under the Black Flag: The Romance and the Real...</td>\n",
              "      <td>David Cordingly</td>\n",
              "      <td>1996</td>\n",
              "      <td>Random House</td>\n",
              "      <td>http://images.amazon.com/images/P/0679425608.0...</td>\n",
              "      <td>http://images.amazon.com/images/P/0679425608.0...</td>\n",
              "      <td>http://images.amazon.com/images/P/0679425608.0...</td>\n",
              "    </tr>\n",
              "    <tr>\n",
              "      <th>9</th>\n",
              "      <td>074322678X</td>\n",
              "      <td>Where You'll Find Me: And Other Stories</td>\n",
              "      <td>Ann Beattie</td>\n",
              "      <td>2002</td>\n",
              "      <td>Scribner</td>\n",
              "      <td>http://images.amazon.com/images/P/074322678X.0...</td>\n",
              "      <td>http://images.amazon.com/images/P/074322678X.0...</td>\n",
              "      <td>http://images.amazon.com/images/P/074322678X.0...</td>\n",
              "    </tr>\n",
              "  </tbody>\n",
              "</table>\n",
              "</div>\n",
              "    <div class=\"colab-df-buttons\">\n",
              "\n",
              "  <div class=\"colab-df-container\">\n",
              "    <button class=\"colab-df-convert\" onclick=\"convertToInteractive('df-e952e123-bafa-4c8f-a5d6-7b404a4f338d')\"\n",
              "            title=\"Convert this dataframe to an interactive table.\"\n",
              "            style=\"display:none;\">\n",
              "\n",
              "  <svg xmlns=\"http://www.w3.org/2000/svg\" height=\"24px\" viewBox=\"0 -960 960 960\">\n",
              "    <path d=\"M120-120v-720h720v720H120Zm60-500h600v-160H180v160Zm220 220h160v-160H400v160Zm0 220h160v-160H400v160ZM180-400h160v-160H180v160Zm440 0h160v-160H620v160ZM180-180h160v-160H180v160Zm440 0h160v-160H620v160Z\"/>\n",
              "  </svg>\n",
              "    </button>\n",
              "\n",
              "  <style>\n",
              "    .colab-df-container {\n",
              "      display:flex;\n",
              "      gap: 12px;\n",
              "    }\n",
              "\n",
              "    .colab-df-convert {\n",
              "      background-color: #E8F0FE;\n",
              "      border: none;\n",
              "      border-radius: 50%;\n",
              "      cursor: pointer;\n",
              "      display: none;\n",
              "      fill: #1967D2;\n",
              "      height: 32px;\n",
              "      padding: 0 0 0 0;\n",
              "      width: 32px;\n",
              "    }\n",
              "\n",
              "    .colab-df-convert:hover {\n",
              "      background-color: #E2EBFA;\n",
              "      box-shadow: 0px 1px 2px rgba(60, 64, 67, 0.3), 0px 1px 3px 1px rgba(60, 64, 67, 0.15);\n",
              "      fill: #174EA6;\n",
              "    }\n",
              "\n",
              "    .colab-df-buttons div {\n",
              "      margin-bottom: 4px;\n",
              "    }\n",
              "\n",
              "    [theme=dark] .colab-df-convert {\n",
              "      background-color: #3B4455;\n",
              "      fill: #D2E3FC;\n",
              "    }\n",
              "\n",
              "    [theme=dark] .colab-df-convert:hover {\n",
              "      background-color: #434B5C;\n",
              "      box-shadow: 0px 1px 3px 1px rgba(0, 0, 0, 0.15);\n",
              "      filter: drop-shadow(0px 1px 2px rgba(0, 0, 0, 0.3));\n",
              "      fill: #FFFFFF;\n",
              "    }\n",
              "  </style>\n",
              "\n",
              "    <script>\n",
              "      const buttonEl =\n",
              "        document.querySelector('#df-e952e123-bafa-4c8f-a5d6-7b404a4f338d button.colab-df-convert');\n",
              "      buttonEl.style.display =\n",
              "        google.colab.kernel.accessAllowed ? 'block' : 'none';\n",
              "\n",
              "      async function convertToInteractive(key) {\n",
              "        const element = document.querySelector('#df-e952e123-bafa-4c8f-a5d6-7b404a4f338d');\n",
              "        const dataTable =\n",
              "          await google.colab.kernel.invokeFunction('convertToInteractive',\n",
              "                                                    [key], {});\n",
              "        if (!dataTable) return;\n",
              "\n",
              "        const docLinkHtml = 'Like what you see? Visit the ' +\n",
              "          '<a target=\"_blank\" href=https://colab.research.google.com/notebooks/data_table.ipynb>data table notebook</a>'\n",
              "          + ' to learn more about interactive tables.';\n",
              "        element.innerHTML = '';\n",
              "        dataTable['output_type'] = 'display_data';\n",
              "        await google.colab.output.renderOutput(dataTable, element);\n",
              "        const docLink = document.createElement('div');\n",
              "        docLink.innerHTML = docLinkHtml;\n",
              "        element.appendChild(docLink);\n",
              "      }\n",
              "    </script>\n",
              "  </div>\n",
              "\n",
              "\n",
              "<div id=\"df-9c9cc1cc-c31f-4806-9ada-3e671838e2fa\">\n",
              "  <button class=\"colab-df-quickchart\" onclick=\"quickchart('df-9c9cc1cc-c31f-4806-9ada-3e671838e2fa')\"\n",
              "            title=\"Suggest charts\"\n",
              "            style=\"display:none;\">\n",
              "\n",
              "<svg xmlns=\"http://www.w3.org/2000/svg\" height=\"24px\"viewBox=\"0 0 24 24\"\n",
              "     width=\"24px\">\n",
              "    <g>\n",
              "        <path d=\"M19 3H5c-1.1 0-2 .9-2 2v14c0 1.1.9 2 2 2h14c1.1 0 2-.9 2-2V5c0-1.1-.9-2-2-2zM9 17H7v-7h2v7zm4 0h-2V7h2v10zm4 0h-2v-4h2v4z\"/>\n",
              "    </g>\n",
              "</svg>\n",
              "  </button>\n",
              "\n",
              "<style>\n",
              "  .colab-df-quickchart {\n",
              "      --bg-color: #E8F0FE;\n",
              "      --fill-color: #1967D2;\n",
              "      --hover-bg-color: #E2EBFA;\n",
              "      --hover-fill-color: #174EA6;\n",
              "      --disabled-fill-color: #AAA;\n",
              "      --disabled-bg-color: #DDD;\n",
              "  }\n",
              "\n",
              "  [theme=dark] .colab-df-quickchart {\n",
              "      --bg-color: #3B4455;\n",
              "      --fill-color: #D2E3FC;\n",
              "      --hover-bg-color: #434B5C;\n",
              "      --hover-fill-color: #FFFFFF;\n",
              "      --disabled-bg-color: #3B4455;\n",
              "      --disabled-fill-color: #666;\n",
              "  }\n",
              "\n",
              "  .colab-df-quickchart {\n",
              "    background-color: var(--bg-color);\n",
              "    border: none;\n",
              "    border-radius: 50%;\n",
              "    cursor: pointer;\n",
              "    display: none;\n",
              "    fill: var(--fill-color);\n",
              "    height: 32px;\n",
              "    padding: 0;\n",
              "    width: 32px;\n",
              "  }\n",
              "\n",
              "  .colab-df-quickchart:hover {\n",
              "    background-color: var(--hover-bg-color);\n",
              "    box-shadow: 0 1px 2px rgba(60, 64, 67, 0.3), 0 1px 3px 1px rgba(60, 64, 67, 0.15);\n",
              "    fill: var(--button-hover-fill-color);\n",
              "  }\n",
              "\n",
              "  .colab-df-quickchart-complete:disabled,\n",
              "  .colab-df-quickchart-complete:disabled:hover {\n",
              "    background-color: var(--disabled-bg-color);\n",
              "    fill: var(--disabled-fill-color);\n",
              "    box-shadow: none;\n",
              "  }\n",
              "\n",
              "  .colab-df-spinner {\n",
              "    border: 2px solid var(--fill-color);\n",
              "    border-color: transparent;\n",
              "    border-bottom-color: var(--fill-color);\n",
              "    animation:\n",
              "      spin 1s steps(1) infinite;\n",
              "  }\n",
              "\n",
              "  @keyframes spin {\n",
              "    0% {\n",
              "      border-color: transparent;\n",
              "      border-bottom-color: var(--fill-color);\n",
              "      border-left-color: var(--fill-color);\n",
              "    }\n",
              "    20% {\n",
              "      border-color: transparent;\n",
              "      border-left-color: var(--fill-color);\n",
              "      border-top-color: var(--fill-color);\n",
              "    }\n",
              "    30% {\n",
              "      border-color: transparent;\n",
              "      border-left-color: var(--fill-color);\n",
              "      border-top-color: var(--fill-color);\n",
              "      border-right-color: var(--fill-color);\n",
              "    }\n",
              "    40% {\n",
              "      border-color: transparent;\n",
              "      border-right-color: var(--fill-color);\n",
              "      border-top-color: var(--fill-color);\n",
              "    }\n",
              "    60% {\n",
              "      border-color: transparent;\n",
              "      border-right-color: var(--fill-color);\n",
              "    }\n",
              "    80% {\n",
              "      border-color: transparent;\n",
              "      border-right-color: var(--fill-color);\n",
              "      border-bottom-color: var(--fill-color);\n",
              "    }\n",
              "    90% {\n",
              "      border-color: transparent;\n",
              "      border-bottom-color: var(--fill-color);\n",
              "    }\n",
              "  }\n",
              "</style>\n",
              "\n",
              "  <script>\n",
              "    async function quickchart(key) {\n",
              "      const quickchartButtonEl =\n",
              "        document.querySelector('#' + key + ' button');\n",
              "      quickchartButtonEl.disabled = true;  // To prevent multiple clicks.\n",
              "      quickchartButtonEl.classList.add('colab-df-spinner');\n",
              "      try {\n",
              "        const charts = await google.colab.kernel.invokeFunction(\n",
              "            'suggestCharts', [key], {});\n",
              "      } catch (error) {\n",
              "        console.error('Error during call to suggestCharts:', error);\n",
              "      }\n",
              "      quickchartButtonEl.classList.remove('colab-df-spinner');\n",
              "      quickchartButtonEl.classList.add('colab-df-quickchart-complete');\n",
              "    }\n",
              "    (() => {\n",
              "      let quickchartButtonEl =\n",
              "        document.querySelector('#df-9c9cc1cc-c31f-4806-9ada-3e671838e2fa button');\n",
              "      quickchartButtonEl.style.display =\n",
              "        google.colab.kernel.accessAllowed ? 'block' : 'none';\n",
              "    })();\n",
              "  </script>\n",
              "</div>\n",
              "\n",
              "    </div>\n",
              "  </div>\n"
            ],
            "application/vnd.google.colaboratory.intrinsic+json": {
              "type": "dataframe",
              "variable_name": "df1"
            }
          },
          "metadata": {},
          "execution_count": 2
        }
      ]
    },
    {
      "cell_type": "code",
      "source": [
        "# Dataset First Look\n",
        "df2.head()"
      ],
      "metadata": {
        "id": "LWNFOSvLl09H",
        "colab": {
          "base_uri": "https://localhost:8080/",
          "height": 206
        },
        "outputId": "a043a08b-e18d-4f27-d9b9-ae011035d18f"
      },
      "execution_count": null,
      "outputs": [
        {
          "output_type": "execute_result",
          "data": {
            "text/plain": [
              "   User-ID        ISBN  Book-Rating\n",
              "0   276725  034545104X            0\n",
              "1   276726  0155061224            5\n",
              "2   276727  0446520802            0\n",
              "3   276729  052165615X            3\n",
              "4   276729  0521795028            6"
            ],
            "text/html": [
              "\n",
              "  <div id=\"df-465a854d-f3e1-4c34-9442-751465fceb71\" class=\"colab-df-container\">\n",
              "    <div>\n",
              "<style scoped>\n",
              "    .dataframe tbody tr th:only-of-type {\n",
              "        vertical-align: middle;\n",
              "    }\n",
              "\n",
              "    .dataframe tbody tr th {\n",
              "        vertical-align: top;\n",
              "    }\n",
              "\n",
              "    .dataframe thead th {\n",
              "        text-align: right;\n",
              "    }\n",
              "</style>\n",
              "<table border=\"1\" class=\"dataframe\">\n",
              "  <thead>\n",
              "    <tr style=\"text-align: right;\">\n",
              "      <th></th>\n",
              "      <th>User-ID</th>\n",
              "      <th>ISBN</th>\n",
              "      <th>Book-Rating</th>\n",
              "    </tr>\n",
              "  </thead>\n",
              "  <tbody>\n",
              "    <tr>\n",
              "      <th>0</th>\n",
              "      <td>276725</td>\n",
              "      <td>034545104X</td>\n",
              "      <td>0</td>\n",
              "    </tr>\n",
              "    <tr>\n",
              "      <th>1</th>\n",
              "      <td>276726</td>\n",
              "      <td>0155061224</td>\n",
              "      <td>5</td>\n",
              "    </tr>\n",
              "    <tr>\n",
              "      <th>2</th>\n",
              "      <td>276727</td>\n",
              "      <td>0446520802</td>\n",
              "      <td>0</td>\n",
              "    </tr>\n",
              "    <tr>\n",
              "      <th>3</th>\n",
              "      <td>276729</td>\n",
              "      <td>052165615X</td>\n",
              "      <td>3</td>\n",
              "    </tr>\n",
              "    <tr>\n",
              "      <th>4</th>\n",
              "      <td>276729</td>\n",
              "      <td>0521795028</td>\n",
              "      <td>6</td>\n",
              "    </tr>\n",
              "  </tbody>\n",
              "</table>\n",
              "</div>\n",
              "    <div class=\"colab-df-buttons\">\n",
              "\n",
              "  <div class=\"colab-df-container\">\n",
              "    <button class=\"colab-df-convert\" onclick=\"convertToInteractive('df-465a854d-f3e1-4c34-9442-751465fceb71')\"\n",
              "            title=\"Convert this dataframe to an interactive table.\"\n",
              "            style=\"display:none;\">\n",
              "\n",
              "  <svg xmlns=\"http://www.w3.org/2000/svg\" height=\"24px\" viewBox=\"0 -960 960 960\">\n",
              "    <path d=\"M120-120v-720h720v720H120Zm60-500h600v-160H180v160Zm220 220h160v-160H400v160Zm0 220h160v-160H400v160ZM180-400h160v-160H180v160Zm440 0h160v-160H620v160ZM180-180h160v-160H180v160Zm440 0h160v-160H620v160Z\"/>\n",
              "  </svg>\n",
              "    </button>\n",
              "\n",
              "  <style>\n",
              "    .colab-df-container {\n",
              "      display:flex;\n",
              "      gap: 12px;\n",
              "    }\n",
              "\n",
              "    .colab-df-convert {\n",
              "      background-color: #E8F0FE;\n",
              "      border: none;\n",
              "      border-radius: 50%;\n",
              "      cursor: pointer;\n",
              "      display: none;\n",
              "      fill: #1967D2;\n",
              "      height: 32px;\n",
              "      padding: 0 0 0 0;\n",
              "      width: 32px;\n",
              "    }\n",
              "\n",
              "    .colab-df-convert:hover {\n",
              "      background-color: #E2EBFA;\n",
              "      box-shadow: 0px 1px 2px rgba(60, 64, 67, 0.3), 0px 1px 3px 1px rgba(60, 64, 67, 0.15);\n",
              "      fill: #174EA6;\n",
              "    }\n",
              "\n",
              "    .colab-df-buttons div {\n",
              "      margin-bottom: 4px;\n",
              "    }\n",
              "\n",
              "    [theme=dark] .colab-df-convert {\n",
              "      background-color: #3B4455;\n",
              "      fill: #D2E3FC;\n",
              "    }\n",
              "\n",
              "    [theme=dark] .colab-df-convert:hover {\n",
              "      background-color: #434B5C;\n",
              "      box-shadow: 0px 1px 3px 1px rgba(0, 0, 0, 0.15);\n",
              "      filter: drop-shadow(0px 1px 2px rgba(0, 0, 0, 0.3));\n",
              "      fill: #FFFFFF;\n",
              "    }\n",
              "  </style>\n",
              "\n",
              "    <script>\n",
              "      const buttonEl =\n",
              "        document.querySelector('#df-465a854d-f3e1-4c34-9442-751465fceb71 button.colab-df-convert');\n",
              "      buttonEl.style.display =\n",
              "        google.colab.kernel.accessAllowed ? 'block' : 'none';\n",
              "\n",
              "      async function convertToInteractive(key) {\n",
              "        const element = document.querySelector('#df-465a854d-f3e1-4c34-9442-751465fceb71');\n",
              "        const dataTable =\n",
              "          await google.colab.kernel.invokeFunction('convertToInteractive',\n",
              "                                                    [key], {});\n",
              "        if (!dataTable) return;\n",
              "\n",
              "        const docLinkHtml = 'Like what you see? Visit the ' +\n",
              "          '<a target=\"_blank\" href=https://colab.research.google.com/notebooks/data_table.ipynb>data table notebook</a>'\n",
              "          + ' to learn more about interactive tables.';\n",
              "        element.innerHTML = '';\n",
              "        dataTable['output_type'] = 'display_data';\n",
              "        await google.colab.output.renderOutput(dataTable, element);\n",
              "        const docLink = document.createElement('div');\n",
              "        docLink.innerHTML = docLinkHtml;\n",
              "        element.appendChild(docLink);\n",
              "      }\n",
              "    </script>\n",
              "  </div>\n",
              "\n",
              "\n",
              "<div id=\"df-46f864e3-e675-4799-bc3a-d3736f5b76c9\">\n",
              "  <button class=\"colab-df-quickchart\" onclick=\"quickchart('df-46f864e3-e675-4799-bc3a-d3736f5b76c9')\"\n",
              "            title=\"Suggest charts\"\n",
              "            style=\"display:none;\">\n",
              "\n",
              "<svg xmlns=\"http://www.w3.org/2000/svg\" height=\"24px\"viewBox=\"0 0 24 24\"\n",
              "     width=\"24px\">\n",
              "    <g>\n",
              "        <path d=\"M19 3H5c-1.1 0-2 .9-2 2v14c0 1.1.9 2 2 2h14c1.1 0 2-.9 2-2V5c0-1.1-.9-2-2-2zM9 17H7v-7h2v7zm4 0h-2V7h2v10zm4 0h-2v-4h2v4z\"/>\n",
              "    </g>\n",
              "</svg>\n",
              "  </button>\n",
              "\n",
              "<style>\n",
              "  .colab-df-quickchart {\n",
              "      --bg-color: #E8F0FE;\n",
              "      --fill-color: #1967D2;\n",
              "      --hover-bg-color: #E2EBFA;\n",
              "      --hover-fill-color: #174EA6;\n",
              "      --disabled-fill-color: #AAA;\n",
              "      --disabled-bg-color: #DDD;\n",
              "  }\n",
              "\n",
              "  [theme=dark] .colab-df-quickchart {\n",
              "      --bg-color: #3B4455;\n",
              "      --fill-color: #D2E3FC;\n",
              "      --hover-bg-color: #434B5C;\n",
              "      --hover-fill-color: #FFFFFF;\n",
              "      --disabled-bg-color: #3B4455;\n",
              "      --disabled-fill-color: #666;\n",
              "  }\n",
              "\n",
              "  .colab-df-quickchart {\n",
              "    background-color: var(--bg-color);\n",
              "    border: none;\n",
              "    border-radius: 50%;\n",
              "    cursor: pointer;\n",
              "    display: none;\n",
              "    fill: var(--fill-color);\n",
              "    height: 32px;\n",
              "    padding: 0;\n",
              "    width: 32px;\n",
              "  }\n",
              "\n",
              "  .colab-df-quickchart:hover {\n",
              "    background-color: var(--hover-bg-color);\n",
              "    box-shadow: 0 1px 2px rgba(60, 64, 67, 0.3), 0 1px 3px 1px rgba(60, 64, 67, 0.15);\n",
              "    fill: var(--button-hover-fill-color);\n",
              "  }\n",
              "\n",
              "  .colab-df-quickchart-complete:disabled,\n",
              "  .colab-df-quickchart-complete:disabled:hover {\n",
              "    background-color: var(--disabled-bg-color);\n",
              "    fill: var(--disabled-fill-color);\n",
              "    box-shadow: none;\n",
              "  }\n",
              "\n",
              "  .colab-df-spinner {\n",
              "    border: 2px solid var(--fill-color);\n",
              "    border-color: transparent;\n",
              "    border-bottom-color: var(--fill-color);\n",
              "    animation:\n",
              "      spin 1s steps(1) infinite;\n",
              "  }\n",
              "\n",
              "  @keyframes spin {\n",
              "    0% {\n",
              "      border-color: transparent;\n",
              "      border-bottom-color: var(--fill-color);\n",
              "      border-left-color: var(--fill-color);\n",
              "    }\n",
              "    20% {\n",
              "      border-color: transparent;\n",
              "      border-left-color: var(--fill-color);\n",
              "      border-top-color: var(--fill-color);\n",
              "    }\n",
              "    30% {\n",
              "      border-color: transparent;\n",
              "      border-left-color: var(--fill-color);\n",
              "      border-top-color: var(--fill-color);\n",
              "      border-right-color: var(--fill-color);\n",
              "    }\n",
              "    40% {\n",
              "      border-color: transparent;\n",
              "      border-right-color: var(--fill-color);\n",
              "      border-top-color: var(--fill-color);\n",
              "    }\n",
              "    60% {\n",
              "      border-color: transparent;\n",
              "      border-right-color: var(--fill-color);\n",
              "    }\n",
              "    80% {\n",
              "      border-color: transparent;\n",
              "      border-right-color: var(--fill-color);\n",
              "      border-bottom-color: var(--fill-color);\n",
              "    }\n",
              "    90% {\n",
              "      border-color: transparent;\n",
              "      border-bottom-color: var(--fill-color);\n",
              "    }\n",
              "  }\n",
              "</style>\n",
              "\n",
              "  <script>\n",
              "    async function quickchart(key) {\n",
              "      const quickchartButtonEl =\n",
              "        document.querySelector('#' + key + ' button');\n",
              "      quickchartButtonEl.disabled = true;  // To prevent multiple clicks.\n",
              "      quickchartButtonEl.classList.add('colab-df-spinner');\n",
              "      try {\n",
              "        const charts = await google.colab.kernel.invokeFunction(\n",
              "            'suggestCharts', [key], {});\n",
              "      } catch (error) {\n",
              "        console.error('Error during call to suggestCharts:', error);\n",
              "      }\n",
              "      quickchartButtonEl.classList.remove('colab-df-spinner');\n",
              "      quickchartButtonEl.classList.add('colab-df-quickchart-complete');\n",
              "    }\n",
              "    (() => {\n",
              "      let quickchartButtonEl =\n",
              "        document.querySelector('#df-46f864e3-e675-4799-bc3a-d3736f5b76c9 button');\n",
              "      quickchartButtonEl.style.display =\n",
              "        google.colab.kernel.accessAllowed ? 'block' : 'none';\n",
              "    })();\n",
              "  </script>\n",
              "</div>\n",
              "\n",
              "    </div>\n",
              "  </div>\n"
            ],
            "application/vnd.google.colaboratory.intrinsic+json": {
              "type": "dataframe",
              "variable_name": "df2"
            }
          },
          "metadata": {},
          "execution_count": 3
        }
      ]
    },
    {
      "cell_type": "code",
      "source": [
        "df3.head()"
      ],
      "metadata": {
        "id": "TOYr49rYmybi",
        "colab": {
          "base_uri": "https://localhost:8080/",
          "height": 206
        },
        "outputId": "892b6ced-3b33-42b1-c539-df690ab82321"
      },
      "execution_count": null,
      "outputs": [
        {
          "output_type": "execute_result",
          "data": {
            "text/plain": [
              "   User-ID                            Location   Age\n",
              "0        1                  nyc, new york, usa   NaN\n",
              "1        2           stockton, california, usa  18.0\n",
              "2        3     moscow, yukon territory, russia   NaN\n",
              "3        4           porto, v.n.gaia, portugal  17.0\n",
              "4        5  farnborough, hants, united kingdom   NaN"
            ],
            "text/html": [
              "\n",
              "  <div id=\"df-d87b4220-cb7c-4fe0-b5b2-4fed3c148e26\" class=\"colab-df-container\">\n",
              "    <div>\n",
              "<style scoped>\n",
              "    .dataframe tbody tr th:only-of-type {\n",
              "        vertical-align: middle;\n",
              "    }\n",
              "\n",
              "    .dataframe tbody tr th {\n",
              "        vertical-align: top;\n",
              "    }\n",
              "\n",
              "    .dataframe thead th {\n",
              "        text-align: right;\n",
              "    }\n",
              "</style>\n",
              "<table border=\"1\" class=\"dataframe\">\n",
              "  <thead>\n",
              "    <tr style=\"text-align: right;\">\n",
              "      <th></th>\n",
              "      <th>User-ID</th>\n",
              "      <th>Location</th>\n",
              "      <th>Age</th>\n",
              "    </tr>\n",
              "  </thead>\n",
              "  <tbody>\n",
              "    <tr>\n",
              "      <th>0</th>\n",
              "      <td>1</td>\n",
              "      <td>nyc, new york, usa</td>\n",
              "      <td>NaN</td>\n",
              "    </tr>\n",
              "    <tr>\n",
              "      <th>1</th>\n",
              "      <td>2</td>\n",
              "      <td>stockton, california, usa</td>\n",
              "      <td>18.0</td>\n",
              "    </tr>\n",
              "    <tr>\n",
              "      <th>2</th>\n",
              "      <td>3</td>\n",
              "      <td>moscow, yukon territory, russia</td>\n",
              "      <td>NaN</td>\n",
              "    </tr>\n",
              "    <tr>\n",
              "      <th>3</th>\n",
              "      <td>4</td>\n",
              "      <td>porto, v.n.gaia, portugal</td>\n",
              "      <td>17.0</td>\n",
              "    </tr>\n",
              "    <tr>\n",
              "      <th>4</th>\n",
              "      <td>5</td>\n",
              "      <td>farnborough, hants, united kingdom</td>\n",
              "      <td>NaN</td>\n",
              "    </tr>\n",
              "  </tbody>\n",
              "</table>\n",
              "</div>\n",
              "    <div class=\"colab-df-buttons\">\n",
              "\n",
              "  <div class=\"colab-df-container\">\n",
              "    <button class=\"colab-df-convert\" onclick=\"convertToInteractive('df-d87b4220-cb7c-4fe0-b5b2-4fed3c148e26')\"\n",
              "            title=\"Convert this dataframe to an interactive table.\"\n",
              "            style=\"display:none;\">\n",
              "\n",
              "  <svg xmlns=\"http://www.w3.org/2000/svg\" height=\"24px\" viewBox=\"0 -960 960 960\">\n",
              "    <path d=\"M120-120v-720h720v720H120Zm60-500h600v-160H180v160Zm220 220h160v-160H400v160Zm0 220h160v-160H400v160ZM180-400h160v-160H180v160Zm440 0h160v-160H620v160ZM180-180h160v-160H180v160Zm440 0h160v-160H620v160Z\"/>\n",
              "  </svg>\n",
              "    </button>\n",
              "\n",
              "  <style>\n",
              "    .colab-df-container {\n",
              "      display:flex;\n",
              "      gap: 12px;\n",
              "    }\n",
              "\n",
              "    .colab-df-convert {\n",
              "      background-color: #E8F0FE;\n",
              "      border: none;\n",
              "      border-radius: 50%;\n",
              "      cursor: pointer;\n",
              "      display: none;\n",
              "      fill: #1967D2;\n",
              "      height: 32px;\n",
              "      padding: 0 0 0 0;\n",
              "      width: 32px;\n",
              "    }\n",
              "\n",
              "    .colab-df-convert:hover {\n",
              "      background-color: #E2EBFA;\n",
              "      box-shadow: 0px 1px 2px rgba(60, 64, 67, 0.3), 0px 1px 3px 1px rgba(60, 64, 67, 0.15);\n",
              "      fill: #174EA6;\n",
              "    }\n",
              "\n",
              "    .colab-df-buttons div {\n",
              "      margin-bottom: 4px;\n",
              "    }\n",
              "\n",
              "    [theme=dark] .colab-df-convert {\n",
              "      background-color: #3B4455;\n",
              "      fill: #D2E3FC;\n",
              "    }\n",
              "\n",
              "    [theme=dark] .colab-df-convert:hover {\n",
              "      background-color: #434B5C;\n",
              "      box-shadow: 0px 1px 3px 1px rgba(0, 0, 0, 0.15);\n",
              "      filter: drop-shadow(0px 1px 2px rgba(0, 0, 0, 0.3));\n",
              "      fill: #FFFFFF;\n",
              "    }\n",
              "  </style>\n",
              "\n",
              "    <script>\n",
              "      const buttonEl =\n",
              "        document.querySelector('#df-d87b4220-cb7c-4fe0-b5b2-4fed3c148e26 button.colab-df-convert');\n",
              "      buttonEl.style.display =\n",
              "        google.colab.kernel.accessAllowed ? 'block' : 'none';\n",
              "\n",
              "      async function convertToInteractive(key) {\n",
              "        const element = document.querySelector('#df-d87b4220-cb7c-4fe0-b5b2-4fed3c148e26');\n",
              "        const dataTable =\n",
              "          await google.colab.kernel.invokeFunction('convertToInteractive',\n",
              "                                                    [key], {});\n",
              "        if (!dataTable) return;\n",
              "\n",
              "        const docLinkHtml = 'Like what you see? Visit the ' +\n",
              "          '<a target=\"_blank\" href=https://colab.research.google.com/notebooks/data_table.ipynb>data table notebook</a>'\n",
              "          + ' to learn more about interactive tables.';\n",
              "        element.innerHTML = '';\n",
              "        dataTable['output_type'] = 'display_data';\n",
              "        await google.colab.output.renderOutput(dataTable, element);\n",
              "        const docLink = document.createElement('div');\n",
              "        docLink.innerHTML = docLinkHtml;\n",
              "        element.appendChild(docLink);\n",
              "      }\n",
              "    </script>\n",
              "  </div>\n",
              "\n",
              "\n",
              "<div id=\"df-df8bd206-d213-49af-992f-6b8ec1aca418\">\n",
              "  <button class=\"colab-df-quickchart\" onclick=\"quickchart('df-df8bd206-d213-49af-992f-6b8ec1aca418')\"\n",
              "            title=\"Suggest charts\"\n",
              "            style=\"display:none;\">\n",
              "\n",
              "<svg xmlns=\"http://www.w3.org/2000/svg\" height=\"24px\"viewBox=\"0 0 24 24\"\n",
              "     width=\"24px\">\n",
              "    <g>\n",
              "        <path d=\"M19 3H5c-1.1 0-2 .9-2 2v14c0 1.1.9 2 2 2h14c1.1 0 2-.9 2-2V5c0-1.1-.9-2-2-2zM9 17H7v-7h2v7zm4 0h-2V7h2v10zm4 0h-2v-4h2v4z\"/>\n",
              "    </g>\n",
              "</svg>\n",
              "  </button>\n",
              "\n",
              "<style>\n",
              "  .colab-df-quickchart {\n",
              "      --bg-color: #E8F0FE;\n",
              "      --fill-color: #1967D2;\n",
              "      --hover-bg-color: #E2EBFA;\n",
              "      --hover-fill-color: #174EA6;\n",
              "      --disabled-fill-color: #AAA;\n",
              "      --disabled-bg-color: #DDD;\n",
              "  }\n",
              "\n",
              "  [theme=dark] .colab-df-quickchart {\n",
              "      --bg-color: #3B4455;\n",
              "      --fill-color: #D2E3FC;\n",
              "      --hover-bg-color: #434B5C;\n",
              "      --hover-fill-color: #FFFFFF;\n",
              "      --disabled-bg-color: #3B4455;\n",
              "      --disabled-fill-color: #666;\n",
              "  }\n",
              "\n",
              "  .colab-df-quickchart {\n",
              "    background-color: var(--bg-color);\n",
              "    border: none;\n",
              "    border-radius: 50%;\n",
              "    cursor: pointer;\n",
              "    display: none;\n",
              "    fill: var(--fill-color);\n",
              "    height: 32px;\n",
              "    padding: 0;\n",
              "    width: 32px;\n",
              "  }\n",
              "\n",
              "  .colab-df-quickchart:hover {\n",
              "    background-color: var(--hover-bg-color);\n",
              "    box-shadow: 0 1px 2px rgba(60, 64, 67, 0.3), 0 1px 3px 1px rgba(60, 64, 67, 0.15);\n",
              "    fill: var(--button-hover-fill-color);\n",
              "  }\n",
              "\n",
              "  .colab-df-quickchart-complete:disabled,\n",
              "  .colab-df-quickchart-complete:disabled:hover {\n",
              "    background-color: var(--disabled-bg-color);\n",
              "    fill: var(--disabled-fill-color);\n",
              "    box-shadow: none;\n",
              "  }\n",
              "\n",
              "  .colab-df-spinner {\n",
              "    border: 2px solid var(--fill-color);\n",
              "    border-color: transparent;\n",
              "    border-bottom-color: var(--fill-color);\n",
              "    animation:\n",
              "      spin 1s steps(1) infinite;\n",
              "  }\n",
              "\n",
              "  @keyframes spin {\n",
              "    0% {\n",
              "      border-color: transparent;\n",
              "      border-bottom-color: var(--fill-color);\n",
              "      border-left-color: var(--fill-color);\n",
              "    }\n",
              "    20% {\n",
              "      border-color: transparent;\n",
              "      border-left-color: var(--fill-color);\n",
              "      border-top-color: var(--fill-color);\n",
              "    }\n",
              "    30% {\n",
              "      border-color: transparent;\n",
              "      border-left-color: var(--fill-color);\n",
              "      border-top-color: var(--fill-color);\n",
              "      border-right-color: var(--fill-color);\n",
              "    }\n",
              "    40% {\n",
              "      border-color: transparent;\n",
              "      border-right-color: var(--fill-color);\n",
              "      border-top-color: var(--fill-color);\n",
              "    }\n",
              "    60% {\n",
              "      border-color: transparent;\n",
              "      border-right-color: var(--fill-color);\n",
              "    }\n",
              "    80% {\n",
              "      border-color: transparent;\n",
              "      border-right-color: var(--fill-color);\n",
              "      border-bottom-color: var(--fill-color);\n",
              "    }\n",
              "    90% {\n",
              "      border-color: transparent;\n",
              "      border-bottom-color: var(--fill-color);\n",
              "    }\n",
              "  }\n",
              "</style>\n",
              "\n",
              "  <script>\n",
              "    async function quickchart(key) {\n",
              "      const quickchartButtonEl =\n",
              "        document.querySelector('#' + key + ' button');\n",
              "      quickchartButtonEl.disabled = true;  // To prevent multiple clicks.\n",
              "      quickchartButtonEl.classList.add('colab-df-spinner');\n",
              "      try {\n",
              "        const charts = await google.colab.kernel.invokeFunction(\n",
              "            'suggestCharts', [key], {});\n",
              "      } catch (error) {\n",
              "        console.error('Error during call to suggestCharts:', error);\n",
              "      }\n",
              "      quickchartButtonEl.classList.remove('colab-df-spinner');\n",
              "      quickchartButtonEl.classList.add('colab-df-quickchart-complete');\n",
              "    }\n",
              "    (() => {\n",
              "      let quickchartButtonEl =\n",
              "        document.querySelector('#df-df8bd206-d213-49af-992f-6b8ec1aca418 button');\n",
              "      quickchartButtonEl.style.display =\n",
              "        google.colab.kernel.accessAllowed ? 'block' : 'none';\n",
              "    })();\n",
              "  </script>\n",
              "</div>\n",
              "\n",
              "    </div>\n",
              "  </div>\n"
            ],
            "application/vnd.google.colaboratory.intrinsic+json": {
              "type": "dataframe",
              "variable_name": "df3"
            }
          },
          "metadata": {},
          "execution_count": 4
        }
      ]
    },
    {
      "cell_type": "markdown",
      "source": [
        "### Dataset Rows & Columns count"
      ],
      "metadata": {
        "id": "7hBIi_osiCS2"
      }
    },
    {
      "cell_type": "code",
      "source": [
        "num_rows1, num_columns1 = df1.shape\n",
        "print(f'The dataset books has {num_rows1} rows and {num_columns1} columns.')\n"
      ],
      "metadata": {
        "id": "Kllu7SJgmLij",
        "colab": {
          "base_uri": "https://localhost:8080/"
        },
        "outputId": "b0a37f6a-61ce-42f3-a7d3-36e1612d6bce"
      },
      "execution_count": null,
      "outputs": [
        {
          "output_type": "stream",
          "name": "stdout",
          "text": [
            "The dataset books has 271360 rows and 8 columns.\n"
          ]
        }
      ]
    },
    {
      "cell_type": "code",
      "source": [
        "num_rows2, num_columns2 = df2.shape\n",
        "print(f'The dataset ratings has {num_rows2} rows and {num_columns2} columns.')\n"
      ],
      "metadata": {
        "id": "5ACObEaV3vqB",
        "colab": {
          "base_uri": "https://localhost:8080/"
        },
        "outputId": "e6c5bda3-260f-4076-822b-cbb4676e7f6d"
      },
      "execution_count": null,
      "outputs": [
        {
          "output_type": "stream",
          "name": "stdout",
          "text": [
            "The dataset ratings has 1149780 rows and 3 columns.\n"
          ]
        }
      ]
    },
    {
      "cell_type": "code",
      "source": [
        "num_rows3, num_columns3 = df3.shape\n",
        "print(f'The dataset users has {num_rows3} rows and {num_columns3} columns.')\n"
      ],
      "metadata": {
        "id": "FTlVZ4P95brO",
        "colab": {
          "base_uri": "https://localhost:8080/"
        },
        "outputId": "9c296832-39f1-4858-de07-4a7d16c5ccf6"
      },
      "execution_count": null,
      "outputs": [
        {
          "output_type": "stream",
          "name": "stdout",
          "text": [
            "The dataset users has 278858 rows and 3 columns.\n"
          ]
        }
      ]
    },
    {
      "cell_type": "markdown",
      "source": [
        "### Dataset Information"
      ],
      "metadata": {
        "id": "JlHwYmJAmNHm"
      }
    },
    {
      "cell_type": "code",
      "source": [
        "df1.info()"
      ],
      "metadata": {
        "id": "e9hRXRi6meOf",
        "colab": {
          "base_uri": "https://localhost:8080/"
        },
        "outputId": "ca9dad87-aaef-442c-a67a-406658a55b9e"
      },
      "execution_count": null,
      "outputs": [
        {
          "output_type": "stream",
          "name": "stdout",
          "text": [
            "<class 'pandas.core.frame.DataFrame'>\n",
            "RangeIndex: 271360 entries, 0 to 271359\n",
            "Data columns (total 8 columns):\n",
            " #   Column               Non-Null Count   Dtype \n",
            "---  ------               --------------   ----- \n",
            " 0   ISBN                 271360 non-null  object\n",
            " 1   Book-Title           271360 non-null  object\n",
            " 2   Book-Author          271358 non-null  object\n",
            " 3   Year-Of-Publication  271360 non-null  object\n",
            " 4   Publisher            271358 non-null  object\n",
            " 5   Image-URL-S          271360 non-null  object\n",
            " 6   Image-URL-M          271360 non-null  object\n",
            " 7   Image-URL-L          271357 non-null  object\n",
            "dtypes: object(8)\n",
            "memory usage: 16.6+ MB\n"
          ]
        }
      ]
    },
    {
      "cell_type": "code",
      "source": [
        "df2.info()"
      ],
      "metadata": {
        "id": "fpmWo48F6sj6",
        "colab": {
          "base_uri": "https://localhost:8080/"
        },
        "outputId": "dff95943-e86b-4887-c262-96cb0d8a97fd"
      },
      "execution_count": null,
      "outputs": [
        {
          "output_type": "stream",
          "name": "stdout",
          "text": [
            "<class 'pandas.core.frame.DataFrame'>\n",
            "RangeIndex: 1149780 entries, 0 to 1149779\n",
            "Data columns (total 3 columns):\n",
            " #   Column       Non-Null Count    Dtype \n",
            "---  ------       --------------    ----- \n",
            " 0   User-ID      1149780 non-null  int64 \n",
            " 1   ISBN         1149780 non-null  object\n",
            " 2   Book-Rating  1149780 non-null  int64 \n",
            "dtypes: int64(2), object(1)\n",
            "memory usage: 26.3+ MB\n"
          ]
        }
      ]
    },
    {
      "cell_type": "code",
      "source": [
        "df3.info()"
      ],
      "metadata": {
        "id": "73twIR4N7Syx",
        "colab": {
          "base_uri": "https://localhost:8080/"
        },
        "outputId": "0d9452f5-0454-42b6-fb2e-0bd2709cbc64"
      },
      "execution_count": null,
      "outputs": [
        {
          "output_type": "stream",
          "name": "stdout",
          "text": [
            "<class 'pandas.core.frame.DataFrame'>\n",
            "RangeIndex: 278858 entries, 0 to 278857\n",
            "Data columns (total 3 columns):\n",
            " #   Column    Non-Null Count   Dtype  \n",
            "---  ------    --------------   -----  \n",
            " 0   User-ID   278858 non-null  int64  \n",
            " 1   Location  278858 non-null  object \n",
            " 2   Age       168096 non-null  float64\n",
            "dtypes: float64(1), int64(1), object(1)\n",
            "memory usage: 6.4+ MB\n"
          ]
        }
      ]
    },
    {
      "cell_type": "markdown",
      "source": [
        "All three datasets were thoroughly examined and found to be free of duplicates and missing values. After careful consideration, the decision was made not to merge the datasets for the EDA. Working with them as separate entities provided greater flexibility, allowing for more targeted analysis and streamlined data processing. This approach also facilitated the use of each dataset independently, depending on the specific requirements of different stages of the project."
      ],
      "metadata": {
        "id": "09krkolrWMJd"
      }
    },
    {
      "cell_type": "markdown",
      "source": [
        "###EXPLORATORY DATA ANALYSIS"
      ],
      "metadata": {
        "id": "uU-HvIb9mcMe"
      }
    },
    {
      "cell_type": "markdown",
      "source": [
        "Let's take a deeper look into the datasets and discover underlying patterns and insights."
      ],
      "metadata": {
        "id": "Rv0Rrg1lmjgB"
      }
    },
    {
      "cell_type": "code",
      "source": [
        "# Plotting a bar chart for book ratings\n",
        "df2['Book-Rating'].value_counts().sort_index().plot(kind='bar', color='skyblue')\n",
        "plt.title('Book Ratings Count')\n",
        "plt.xlabel('Rating')\n",
        "plt.ylabel('Number of Ratings')\n",
        "plt.xticks(rotation=0)\n",
        "plt.show()\n"
      ],
      "metadata": {
        "id": "PNaTl0DU_JKA",
        "colab": {
          "base_uri": "https://localhost:8080/",
          "height": 472
        },
        "outputId": "38769b1a-d92c-4f31-cd7a-78538ac6444d"
      },
      "execution_count": null,
      "outputs": [
        {
          "output_type": "display_data",
          "data": {
            "text/plain": [
              "<Figure size 640x480 with 1 Axes>"
            ],
            "image/png": "[encoded data removed]"
          },
          "metadata": {}
        }
      ]
    },
    {
      "cell_type": "code",
      "source": [
        "# Calculate the average rating by user and select the top 20\n",
        "average_rating_by_user = df2.groupby('User-ID')['Book-Rating'].count().sort_values(ascending=False).head(20)\n",
        "\n",
        "# Plotting the data\n",
        "plt.figure(figsize=(12, 8))\n",
        "average_rating_by_user.plot(kind='bar', color='skyblue')\n",
        "plt.title('Average Rating by Top 20 Users')\n",
        "plt.xlabel('User ID')\n",
        "plt.ylabel('Average Rating')\n",
        "plt.xticks(rotation=45)\n",
        "plt.show()\n"
      ],
      "metadata": {
        "colab": {
          "base_uri": "https://localhost:8080/",
          "height": 752
        },
        "id": "Ya9Moy5nQos4",
        "outputId": "db567cb0-ab33-44cc-f988-e10d14a2461c"
      },
      "execution_count": null,
      "outputs": [
        {
          "output_type": "display_data",
          "data": {
            "text/plain": [
              "<Figure size 1200x800 with 1 Axes>"
            ],
            "image/png": "[encoded data removed]"
          },
          "metadata": {}
        }
      ]
    },
    {
      "cell_type": "code",
      "source": [
        "# Total number of unique users in the dataset\n",
        "total_users = df3['User-ID'].nunique()\n",
        "# Number of users who have rated at least one book\n",
        "users_who_rated = df2['User-ID'].nunique()\n",
        "\n",
        "# Calculate the percentage of users who have rated\n",
        "percentage_of_users_who_rated = (users_who_rated / total_users) * 100\n",
        "\n",
        "print(f\"Percentage of users who have rated: {percentage_of_users_who_rated:.2f}%\")\n"
      ],
      "metadata": {
        "colab": {
          "base_uri": "https://localhost:8080/"
        },
        "id": "xw-VNzvRUSpO",
        "outputId": "2c3940a4-43ac-4f62-84b9-a8136e9f6457"
      },
      "execution_count": null,
      "outputs": [
        {
          "output_type": "stream",
          "name": "stdout",
          "text": [
            "Percentage of users who have rated: 37.76%\n"
          ]
        }
      ]
    },
    {
      "cell_type": "markdown",
      "source": [
        "The rest of the users who are not rating books represent a potential area for growth. The platform could focus on strategies to encourage these users to participate more actively, such as through personalized recommendations, rating prompts, or gamification elements that reward users for rating books."
      ],
      "metadata": {
        "id": "FQQOyhb2U32q"
      }
    },
    {
      "cell_type": "code",
      "source": [
        "merged_data = pd.merge(df1, df2, on='ISBN', how='inner')\n",
        "\n",
        "# Group by 'Book-Title' and count the number of ratings for each title\n",
        "book_ratings_count = merged_data.groupby('Book-Title')['Book-Rating'].count()\n",
        "\n",
        "# Sort the counts in descending order and select the top 10\n",
        "top_10_books = book_ratings_count.sort_values(ascending=False).head(10)\n",
        "\n",
        "\n",
        "# Convert the Series to a list of tuples\n",
        "top_10_books_list = list(zip(top_10_books.index, top_10_books.values))\n",
        "\n",
        "# Define headers\n",
        "headers = ['Book-Title', 'Number of Ratings']\n",
        "\n",
        "# Print the table with borders\n",
        "print(tabulate(top_10_books_list, headers=headers, tablefmt=\"grid\"))\n"
      ],
      "metadata": {
        "id": "mhXOgfhmCpmd",
        "colab": {
          "base_uri": "https://localhost:8080/"
        },
        "outputId": "e58477c6-25ba-4fe9-a41b-44642ab5efaf"
      },
      "execution_count": null,
      "outputs": [
        {
          "output_type": "stream",
          "name": "stdout",
          "text": [
            "+-------------------------------------------------+---------------------+\n",
            "| Book-Title                                      |   Number of Ratings |\n",
            "+=================================================+=====================+\n",
            "| Wild Animus                                     |                2502 |\n",
            "+-------------------------------------------------+---------------------+\n",
            "| The Lovely Bones: A Novel                       |                1295 |\n",
            "+-------------------------------------------------+---------------------+\n",
            "| The Da Vinci Code                               |                 898 |\n",
            "+-------------------------------------------------+---------------------+\n",
            "| A Painted House                                 |                 838 |\n",
            "+-------------------------------------------------+---------------------+\n",
            "| The Nanny Diaries: A Novel                      |                 828 |\n",
            "+-------------------------------------------------+---------------------+\n",
            "| Bridget Jones's Diary                           |                 815 |\n",
            "+-------------------------------------------------+---------------------+\n",
            "| The Secret Life of Bees                         |                 774 |\n",
            "+-------------------------------------------------+---------------------+\n",
            "| Divine Secrets of the Ya-Ya Sisterhood: A Novel |                 740 |\n",
            "+-------------------------------------------------+---------------------+\n",
            "| The Red Tent (Bestselling Backlist)             |                 723 |\n",
            "+-------------------------------------------------+---------------------+\n",
            "| Angels &amp; Demons                             |                 670 |\n",
            "+-------------------------------------------------+---------------------+\n"
          ]
        }
      ]
    },
    {
      "cell_type": "markdown",
      "source": [
        "The top-rated books span various genres, from mystery and thriller (\"The Da Vinci Code\") to literary fiction (\"The Lovely Bones\") and contemporary fiction (\"The Nanny Diaries\"). This indicates that readers of different tastes and preferences were actively engaging with these titles."
      ],
      "metadata": {
        "id": "mvFXk-1mNRJS"
      }
    },
    {
      "cell_type": "code",
      "source": [
        "merged_data = pd.merge(df1[['ISBN', 'Book-Author']], df2[['ISBN', 'Book-Rating']], on='ISBN', how='inner')\n",
        "\n",
        "# Group by 'Book-Author' and count the number of ratings\n",
        "author_ratings_count = merged_data.groupby('Book-Author')['Book-Rating'].count().sort_values(ascending=False)\n",
        "\n",
        "# Find the most rated author\n",
        "most_rated_author = author_ratings_count.idxmax()\n",
        "most_rated_author_count = author_ratings_count.max()\n",
        "\n",
        "print(f\"The most rated author is {most_rated_author} with {most_rated_author_count} ratings.\")\n"
      ],
      "metadata": {
        "colab": {
          "base_uri": "https://localhost:8080/"
        },
        "id": "43-s95qhrPfW",
        "outputId": "59bd2407-1a27-4989-8636-1d21b67da446"
      },
      "execution_count": null,
      "outputs": [
        {
          "output_type": "stream",
          "name": "stdout",
          "text": [
            "The most rated author is Stephen King with 10053 ratings.\n"
          ]
        }
      ]
    },
    {
      "cell_type": "code",
      "source": [
        "print('Unique values in Age column:', df3['Age'].unique())\n"
      ],
      "metadata": {
        "id": "zrdskfg3EVwA",
        "colab": {
          "base_uri": "https://localhost:8080/"
        },
        "outputId": "17338b7a-4c4e-4934-ee31-c38084e1b8fb"
      },
      "execution_count": null,
      "outputs": [
        {
          "output_type": "stream",
          "name": "stdout",
          "text": [
            "Unique values in Age column: [ nan  18.  17.  61.  26.  14.  25.  19.  46.  55.  32.  24.  20.  34.\n",
            "  23.  51.  31.  21.  44.  30.  57.  43.  37.  41.  54.  42.  50.  39.\n",
            "  53.  47.  36.  28.  35.  13.  58.  49.  38.  45.  62.  63.  27.  33.\n",
            "  29.  66.  40.  15.  60.   0.  79.  22.  16.  65.  59.  48.  72.  56.\n",
            "  67.   1.  80.  52.  69.  71.  73.  78.   9.  64. 103. 104.  12.  74.\n",
            "  75. 231.   3.  76.  83.  68. 119.  11.  77.   2.  70.  93.   8.   7.\n",
            "   4.  81. 114. 230. 239.  10.   5. 148. 151.   6. 101. 201.  96.  84.\n",
            "  82.  90. 123. 244. 133.  91. 128.  94.  85. 141. 110.  97. 219.  86.\n",
            " 124.  92. 175. 172. 209. 212. 237.  87. 162. 100. 156. 136.  95.  89.\n",
            " 106.  99. 108. 210.  88. 199. 147. 168. 132. 159. 186. 152. 102. 116.\n",
            " 200. 115. 226. 137. 207. 229. 138. 109. 105. 228. 183. 204.  98. 223.\n",
            " 113. 208. 107. 157. 111. 146. 118. 220. 143. 140. 189. 127.]\n"
          ]
        }
      ]
    },
    {
      "cell_type": "markdown",
      "source": [
        "There are several unrealistic ages in the dataset. Since it's not feasible to manually correct these entries, we'll exclude any ages above 100 from our analysis.\n",
        "\n",
        "\n",
        "\n",
        "\n",
        "\n",
        "\n"
      ],
      "metadata": {
        "id": "gwv0YigaEvv5"
      }
    },
    {
      "cell_type": "code",
      "source": [
        "df3 = df3[df3['Age'] <= 100]\n",
        "\n",
        "merged_df = pd.merge(df2[['User-ID', 'Book-Rating']], df3[['User-ID', 'Age']], on='User-ID', how='inner')\n",
        "\n",
        "# Define age bins and labels\n",
        "bins = [0, 10, 20, 30, 40, 50, 60, 70, 80, 90, 100, 110]\n",
        "labels = ['0-10', '11-20', '21-30', '31-40', '41-50', '51-60', '61-70', '71-80', '81-90', '91-100', '101+']\n",
        "\n",
        "# Create a new column 'Age-Group' with these bins\n",
        "merged_df['Age-Group'] = pd.cut(merged_df['Age'], bins=bins, labels=labels, right=False)\n",
        "\n",
        "# Count the number of ratings per age group\n",
        "rating_count_by_age_group = merged_df.groupby('Age-Group')['Book-Rating'].count()\n",
        "\n",
        "# Create a bar graph\n",
        "plt.figure(figsize=(12, 6))\n",
        "rating_count_by_age_group.plot(kind='bar', color='skyblue')\n",
        "plt.title('Number of Ratings by Age Group')\n",
        "plt.xlabel('Age Group')\n",
        "plt.ylabel('Number of Ratings')\n",
        "plt.xticks(rotation=45)\n",
        "plt.grid(axis='y')\n",
        "plt.show()\n",
        "\n"
      ],
      "metadata": {
        "id": "GxvDMQ4sEPXs",
        "colab": {
          "base_uri": "https://localhost:8080/",
          "height": 650
        },
        "outputId": "d29459a7-e6d6-4c14-bb04-18d5f90db95f"
      },
      "execution_count": null,
      "outputs": [
        {
          "output_type": "stream",
          "name": "stderr",
          "text": [
            "<ipython-input-17-e3ff549baccb>:17: FutureWarning: The default of observed=False is deprecated and will be changed to True in a future version of pandas. Pass observed=False to retain current behavior or observed=True to adopt the future default and silence this warning.\n",
            "  rating_count_by_age_group = merged_df.groupby('Age-Group')['Book-Rating'].count()\n"
          ]
        },
        {
          "output_type": "display_data",
          "data": {
            "text/plain": [
              "<Figure size 1200x600 with 1 Axes>"
            ],
            "image/png": "[encoded data removed]"
          },
          "metadata": {}
        }
      ]
    },
    {
      "cell_type": "markdown",
      "source": [
        "Middle-aged individuals are the most active in rating books, followed by young adults. After that, people aged 40-50 are more engaged, with those in the 50-60 age group showing the least activity in book ratings. This pattern suggests that middle-aged and younger adults are more likely to engage in book rating activities compared to older age groups."
      ],
      "metadata": {
        "id": "4dzNMdE3Fk6G"
      }
    },
    {
      "cell_type": "markdown",
      "source": [
        "###MODEL CREATION\n",
        "\n",
        "**Preprocessing**\n",
        "\n",
        "Preprocessing is a crucial step in any machine learning project. It involves cleaning and organizing the data to make it suitable for analysis and model training.\n",
        "\n",
        "**Filtering Data**\n",
        "\n",
        "User Filtering: filter the users to include only those who have rated a sufficient number of books (users who have rated more than 200 books). This ensures that the model is trained on users who have shown enough engagement, leading to more reliable recommendations.\n",
        "\n",
        "Book Filtering:filter books to include only those that have been rated by a significant number of users (books with ratings from at least 50 users).This prevents the model from making recommendations based on books with very few ratings, which might not be representative of the general preference.\n",
        "\n",
        "**Merging Datasets**\n",
        "\n",
        "datasets for users, books, and ratings are separate,  merge them on common identifiers (like ISBN or User-ID). This step ensures that all relevant information (e.g., user demographics, book details, and ratings) is combined into a single dataset, making it easier to analyze and train the model.\n",
        "\n",
        "\n",
        "**Handling Missing Values**\n",
        "\n",
        "Missing data can skew the results of your model. During preprocessing, you might need to handle missing values, either by filling them with appropriate values (like the mean or median) or by removing rows/columns with excessive missing data.\n"
      ],
      "metadata": {
        "id": "bXFU0MPlTMrW"
      }
    },
    {
      "cell_type": "code",
      "source": [
        "# Merging rating and book dataframes\n",
        "rating_with_name = df2.merge(df1, on='ISBN')\n",
        "\n",
        "# Calculating the number of ratings and average rating for each book\n",
        "num_rating_df = rating_with_name.groupby('Book-Title').count()['Book-Rating'].reset_index()\n",
        "num_rating_df.rename(columns={'Book-Rating': 'Num_rating'}, inplace=True)\n",
        "\n",
        "avg_rating_df = rating_with_name.groupby('Book-Title').mean(numeric_only=True)['Book-Rating'].reset_index()\n",
        "avg_rating_df.rename(columns={'Book-Rating': 'Avg_rating'}, inplace=True)\n",
        "\n",
        "# Merging popularity dataframes and filtering top 100 popular books\n",
        "popular_df = num_rating_df.merge(avg_rating_df, on='Book-Title')\n",
        "pbr_df = popular_df[popular_df['Num_rating'] >= 300].sort_values('Avg_rating', ascending=False).head(100)\n",
        "\n",
        "# Selecting relevant columns for recommendation\n",
        "pbr_df = pbr_df.merge(df1, on='Book-Title').drop_duplicates('Book-Title')[['Book-Title', 'Book-Author', 'Publisher', 'Image-URL-M', 'Num_rating', 'Avg_rating']]\n",
        "\n",
        "# Saving the popularity-based recommendation data into a pickle file\n",
        "pickle.dump(pbr_df, open('PopularBookRecommendation.pkl', 'wb'))\n",
        "\n",
        "b = rating_with_name.groupby('User-ID').count()['Book-Rating'] > 200\n",
        "users_with_ratings = b[b].index\n",
        "filtered_rating = rating_with_name[rating_with_name['User-ID'].isin(users_with_ratings)]\n",
        "c = filtered_rating.groupby('Book-Title').count()['Book-Rating'] >= 50\n",
        "famous_books = c[c].index\n",
        "final_ratings = filtered_rating[filtered_rating['Book-Title'].isin(famous_books)]\n"
      ],
      "metadata": {
        "id": "a0Jp1Go3qYvK"
      },
      "execution_count": null,
      "outputs": []
    },
    {
      "cell_type": "markdown",
      "source": [
        "###MODEL TRAINING\n",
        "\n",
        "Once the data is preprocessed, the next step is training the machine learning model.it involves using collaborative filtering, which is a technique commonly used in recommendation systems.\n",
        "\n",
        "**Popularity-based**\n",
        "\n",
        "These simply recommend the most popular items to users. Popularity-based systems are simplest of all and have minimal computational requirements.\n",
        "\n",
        "**Pivot Table Creation**\n",
        "\n",
        "a pivot table where rows represent Book-Title, columns represent User-ID, and the values are the Book-Rating was created. This table forms the basis of the model, representing the relationship between users and the books they have rated.\n",
        "\n",
        "**Cosine Similarity Calculation**\n",
        "\n",
        "Unsupervised Learning\n",
        "\n",
        " Unlike supervised learning, where you have labeled data, collaborative filtering often uses unsupervised learning.The cosine similarity between the rows of the pivot table (i.e., between different books)was calculated. Cosine similarity measures the cosine of the angle between two vectors—here,the vectors represent the ratings of different books by users. The closer the cosine similarity value is to 1, the more similar the two books are.\n",
        "\n",
        "**Learning Patterns**\n",
        "\n",
        "The model \"learns\" the patterns in user ratings by calculating these similarities. It identifies which books tend to be rated similarly by users, even if the specific ratings differ. This step doesn't involve traditional \"training\" like a neural network but is instead about discovering patterns in the data that can be used for recommendations.\n"
      ],
      "metadata": {
        "id": "q2ghCmf54j-q"
      }
    },
    {
      "cell_type": "code",
      "source": [
        "\n",
        "#Pivot Table Creation\n",
        "pt = final_ratings.pivot_table(index='Book-Title', columns='User-ID', values='Book-Rating')\n",
        "pt.fillna(0, inplace=True)\n",
        "\n",
        "#Cosine Similarity Calculation\n",
        "from sklearn.metrics.pairwise import cosine_similarity\n",
        "similarity_scores = cosine_similarity(pt)\n",
        "import numpy as np\n",
        "#Recommendation Function\n",
        "def recommendation(book_name):\n",
        "    if book_name not in pt.index:\n",
        "        return \"Book not found.\"\n",
        "\n",
        "    index = np.where(np.array(list(pt.index)) == book_name)[0][0]\n",
        "    similar_items = sorted(list(enumerate(similarity_scores[index])), reverse=True, key=lambda x: x[1])[1:9]\n",
        "\n",
        "    data = []\n",
        "    for i in similar_items:\n",
        "        book_title = pt.index[i[0]]\n",
        "        temp_df = df1[df1['Book-Title'] == book_title].iloc[0]\n",
        "        item = [temp_df['Book-Title'], temp_df['Book-Author'], temp_df['Image-URL-M']]\n",
        "        data.append(item)\n",
        "    return data\n",
        "\n",
        "#Saving Data\n",
        "pickle.dump(pt, open('pt.pkl', 'wb'))\n",
        "pickle.dump(df1, open('book.pkl', 'wb'))\n",
        "pickle.dump(similarity_scores, open('similarity_scores.pkl', 'wb'))\n",
        "\n",
        "\n",
        "\n"
      ],
      "metadata": {
        "id": "vv6w6WqfsSMI"
      },
      "execution_count": null,
      "outputs": []
    },
    {
      "cell_type": "markdown",
      "source": [
        "####MODEL INFERENCE\n",
        "\n",
        "Inference is the step where the trained model is applied to make predictions or recommendations.\n",
        "\n",
        "**Using Similarity Scores**\n",
        "\n",
        "After calculating the similarity scores during the training phase, these scores are used to recommend books. When a user inputs a book they like, the system retrieves the similarity scores for that book and identifies other books with high similarity scores.\n",
        "\n",
        "**Recommendation Generation**\n",
        "\n",
        "For each book a user is interested in, the model ranks other books based on their similarity scores and recommends those with the highest scores. The assumption is that if two books are similar based on user ratings, a user who likes one book will likely enjoy the other.\n",
        "\n",
        "**Personalized Recommendations**\n",
        "\n",
        "The recommendations are personalized because they are based on the specific books a user has shown interest in. The system takes into account the patterns it learned during the training phase (i.e., which books are rated similarly by the same users) to provide these recommendations."
      ],
      "metadata": {
        "id": "dXE3YNkd6Vfb"
      }
    },
    {
      "cell_type": "code",
      "source": [
        "recommendation('The Notebook')"
      ],
      "metadata": {
        "colab": {
          "base_uri": "https://localhost:8080/"
        },
        "id": "zJHIxZaMC_Bz",
        "outputId": "3d869f8b-c68f-47e8-dc3e-c5858fe58af4"
      },
      "execution_count": null,
      "outputs": [
        {
          "output_type": "execute_result",
          "data": {
            "text/plain": [
              "[['A Walk to Remember',\n",
              "  'Nicholas Sparks',\n",
              "  'http://images.amazon.com/images/P/0446608955.01.MZZZZZZZ.jpg'],\n",
              " ['The Rescue',\n",
              "  'Nicholas Sparks',\n",
              "  'http://images.amazon.com/images/P/0446610399.01.MZZZZZZZ.jpg'],\n",
              " ['One Door Away from Heaven',\n",
              "  'Dean R. Koontz',\n",
              "  'http://images.amazon.com/images/P/0553582755.01.MZZZZZZZ.jpg'],\n",
              " ['Toxin',\n",
              "  'Robin Cook',\n",
              "  'http://images.amazon.com/images/P/0425166619.01.MZZZZZZZ.jpg'],\n",
              " ['The Five People You Meet in Heaven',\n",
              "  'Mitch Albom',\n",
              "  'http://images.amazon.com/images/P/0786868716.01.MZZZZZZZ.jpg'],\n",
              " ['Nights in Rodanthe',\n",
              "  'Nicholas Sparks',\n",
              "  'http://images.amazon.com/images/P/0446531332.01.MZZZZZZZ.jpg'],\n",
              " [\"Suzanne's Diary for Nicholas\",\n",
              "  'James Patterson',\n",
              "  'http://images.amazon.com/images/P/0316969443.01.MZZZZZZZ.jpg'],\n",
              " [\"Everything's Eventual : 14 Dark Tales\",\n",
              "  'Stephen King',\n",
              "  'http://images.amazon.com/images/P/0743457358.01.MZZZZZZZ.jpg']]"
            ]
          },
          "metadata": {},
          "execution_count": 20
        }
      ]
    },
    {
      "cell_type": "markdown",
      "source": [
        "Collaborative filtering evaluates user interactions and suggests books based on observed user behavior patterns. When using cosine similarity in a recommendation system, the focus is primarily on the similarity of user ratings rather than on the genre of the books. This approach measures how closely the ratings given by users match each other. As a result, books that receive similar ratings from users will be recommended, even if they belong to different genres. This method relies on the patterns of ratings and preferences rather than the content attributes of the books themselves.\n",
        "\n",
        "To improve the recommendation system, it is beneficial to incorporate content-based features like genre, author, or book descriptions for more personalized recommendations. However, since the current dataset lacks a genre column, we relayed solely on user ratings to generate recommendations."
      ],
      "metadata": {
        "id": "qn9j0OZ-dHDg"
      }
    },
    {
      "cell_type": "markdown",
      "source": [
        "####CONCLUSION\n",
        "\n",
        "In this project,i developed a book recommendation system using collaborative filtering techniques, specifically focusing on cosine similarity. This approach leverages user ratings to suggest books based on the similarity of user preferences, without considering the genre or other content-based features.\n",
        "\n",
        "Deploying the system using Flask makes it easily accessible to users, allowing them to discover exciting new books that align with their interests.\n",
        "\n",
        "For a book retailer or a digital library, effective recommendations can significantly enhance user engagement and satisfaction. By providing personalized book suggestions, businesses can increase customer retention, drive sales, and improve the overall user experience. Collaborative filtering helps in achieving these goals by identifying patterns in user behavior and recommending books that are highly rated by similar users."
      ],
      "metadata": {
        "id": "Bzk5alTRMH21"
      }
    }
  ]
}